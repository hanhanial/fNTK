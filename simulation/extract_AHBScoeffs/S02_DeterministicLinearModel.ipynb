{
 "cells": [
  {
   "cell_type": "markdown",
   "id": "8c8b6030",
   "metadata": {},
   "source": [
    "Following paper:\n",
    "Bernales, A. (2014). Can we forecast the implied volatility surface dynamics of equity options?"
   ]
  },
  {
   "cell_type": "code",
   "execution_count": 1,
   "id": "d1695fc8",
   "metadata": {},
   "outputs": [],
   "source": [
    "import pandas as pd\n",
    "import numpy as np\n",
    "from sklearn import metrics\n",
    "import statsmodels.api as sm"
   ]
  },
  {
   "cell_type": "code",
   "execution_count": 2,
   "id": "75955d30",
   "metadata": {},
   "outputs": [],
   "source": [
    "idir = '~/Desktop/Hannah/work/SPX/Analysis/S02_Bernales2014/Daily_2009_2021/M_Andersen/S01_processing_data/'\n",
    "odir = '~/Desktop/Hannah/work/SPX/Analysis/S02_Bernales2014/Daily_2009_2021/M_Andersen/S02_DeterministicLinearModel/'"
   ]
  },
  {
   "cell_type": "code",
   "execution_count": 3,
   "id": "58a341bc",
   "metadata": {},
   "outputs": [],
   "source": [
    "#%% function to fit GLS linear model\n",
    "def GLS_lm(data,ofile):\n",
    "    # unique days (Wednesdays)\n",
    "    days = data['Date'].unique()\n",
    "\n",
    "    out = []\n",
    "    for i in range(0,len(days)):\n",
    "        d = days[i]\n",
    "        #print('Processing day: ',d)\n",
    "        \n",
    "        X = y = data[data['Date']==d]\n",
    "        \n",
    "        X = X[['M','M2','tau','Mtau']]\n",
    "        y = y['IV']\n",
    "        \n",
    "        X, y = np.array(X), np.array(y)\n",
    "        \n",
    "        # add_constant() to get intercept\n",
    "        X = sm.add_constant(X)\n",
    "        \n",
    "        model = sm.GLS(y, X)\n",
    "        results = model.fit()\n",
    "        \n",
    "        R2 = results.rsquared\n",
    "        betas = results.params\n",
    "        RMSE = np.sqrt(metrics.mean_squared_error(y, results.fittedvalues))\n",
    "        \n",
    "        out.append([d,betas[0],betas[1],betas[2],betas[3],betas[4],R2,RMSE])\n",
    "\n",
    "    out = pd.DataFrame(out, columns=['Date','b0','b1','b2','b3','b4','R2','RMSE'])\n",
    "    out.to_csv(ofile,index=False) \n",
    "    \n",
    "    return out"
   ]
  },
  {
   "cell_type": "code",
   "execution_count": 4,
   "id": "86951dc4",
   "metadata": {},
   "outputs": [],
   "source": [
    "call_dat = pd.read_csv(idir + 'Call_2009_2021.csv')\n",
    "put_dat = pd.read_csv(idir + 'Put_2009_2021.csv')"
   ]
  },
  {
   "cell_type": "code",
   "execution_count": 5,
   "id": "2c565db2",
   "metadata": {
    "scrolled": true
   },
   "outputs": [],
   "source": [
    "cout = GLS_lm(data=call_dat,ofile=odir+'Call_2009_2021.csv')"
   ]
  },
  {
   "cell_type": "code",
   "execution_count": 6,
   "id": "30b9aaa3",
   "metadata": {},
   "outputs": [],
   "source": [
    "pout = GLS_lm(data=put_dat,ofile=odir+'Put_2009_2021.csv')"
   ]
  },
  {
   "cell_type": "code",
   "execution_count": null,
   "id": "db28de95",
   "metadata": {},
   "outputs": [],
   "source": []
  }
 ],
 "metadata": {
  "kernelspec": {
   "display_name": "Python 3 (ipykernel)",
   "language": "python",
   "name": "python3"
  },
  "language_info": {
   "codemirror_mode": {
    "name": "ipython",
    "version": 3
   },
   "file_extension": ".py",
   "mimetype": "text/x-python",
   "name": "python",
   "nbconvert_exporter": "python",
   "pygments_lexer": "ipython3",
   "version": "3.9.13"
  }
 },
 "nbformat": 4,
 "nbformat_minor": 5
}
